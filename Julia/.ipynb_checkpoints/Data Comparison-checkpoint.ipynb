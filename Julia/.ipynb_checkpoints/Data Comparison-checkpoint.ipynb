{
 "cells": [
  {
   "cell_type": "markdown",
   "metadata": {},
   "source": [
    "This notebook compares data I could find online for the index of refraction of CXRO data, data from David Windt, and the data files we currently have on volta for Al, Si, AlF$_3$, and SiO$_2$.\n",
    "\n",
    "The data are stored with different units and assumptions, so I wanted to detail the conversions I used here first.\n",
    "\n",
    "# Base Units\n",
    "The base units I will use are wavelength in nanometers (nm) and the index of refraction in terms of $\\delta$ and $\\beta$. Other units will be converted to these units as needed.\n",
    "\n",
    "* 1 Angstrom = 0.1 nm\n",
    "* 1 nm = 1239.84197 eV-nm/$E = hc/E$ , where $E$ is the energy. With $E$ in eV, $h=6.626176\\times 10^{-34}$J-s, $c=2.99792458\\times 10^8$m/s, $e=1.6021872\\times 10^{-19}$C, $hc=1.9864458\\times 10^{-25}$J-m = $1.9864458\\times 10^{-16}$J-nm. $hc/e=1239.84197$eV-nm.\n",
    "* $\\delta  =\\frac{r_0 N}{2\\pi} \\lambda^2 f_1 = 2.7008644\\times 10^{-4} \\hbox{nm}^{-2} \\frac{\\rho\\lambda^2}{A}f_1$ with $N$ the density, and $r_0$ the classical electron radius, $2.817940\\times 10^{-6}$ nm. If $\\rho$ is the density in g/cm$^3$, $A_0=6.0221409\\times 10^{23}$ is Avogadro's number, and $A$ g/mole is the atomic mass number $\\delta =  2.7008644\\times 10^{-4} \\hbox{nm}^{-2} \\frac{\\rho\\lambda^2}{A}f_1$\n",
    "* $\\beta = \\frac{r_0 N}{2\\pi} \\lambda^2 f_2 = 2.7008644\\times 10^{-4} \\hbox{nm}^{-2} \\frac{\\rho\\lambda^2}{A}f_2$\n",
    "* $f_1 = \\frac{2\\pi}{r_0 N} \\lambda^{-2} \\delta = 3702.518 \\hbox{ nm}^2 \\frac{A}{\\rho\\lambda^2 } \\delta$\n",
    "* $f_2 = \\frac{2\\pi}{r_0 N} \\lambda^{-2} \\beta = 3702.518 \\hbox{ nm}^2 \\frac{A}{\\rho\\lambda^2 } \\beta$\n",
    "* $\\tilde{n}=1-\\delta+i\\beta=n+ik$ (complex index of refraction)\n",
    "\n",
    "Here are the routines I use for unit conversion"
   ]
  },
  {
   "cell_type": "code",
   "execution_count": 15,
   "metadata": {},
   "outputs": [
    {
     "data": {
      "text/plain": [
       "lambda2e (generic function with 1 method)"
      ]
     },
     "execution_count": 15,
     "metadata": {},
     "output_type": "execute_result"
    }
   ],
   "source": [
    "delta(rho, lambda, A, f1) = 2.7008644e-4*rho*lambda^2/A*f1\n",
    "beta(rho, lambda, A, f2) = 2.7008644e-4*rho*lambda^2/A*f2\n",
    "f1(rho, lambda, A, delta) = 3702.518*A/(rho*lambda^2)*delta\n",
    "f2(rho, lambda, A, beta) = 3702.518*A/(rho*lambda^2)*beta\n",
    "e2lambda(e) = 1239.84197/e\n",
    "lambda2e(lambda) = 1239.84197/lambda"
   ]
  },
  {
   "cell_type": "code",
   "execution_count": 16,
   "metadata": {},
   "outputs": [
    {
     "name": "stdout",
     "output_type": "stream",
     "text": [
      "delta = 0.10490688443488634\n",
      "beta = 0.007962772885157992\n"
     ]
    }
   ],
   "source": [
    "alf1=2.31139\n",
    "alf2=0.175442\n",
    "alA=26.982\n",
    "alrho=2.70\n",
    "E=30.255\n",
    "lambda=e2lambda(E)\n",
    "println(\"delta = \", delta(alrho, lambda, alA, alf1))\n",
    "println(\"beta = \", beta(alrho, lambda, alA, alf2))"
   ]
  },
  {
   "cell_type": "markdown",
   "metadata": {},
   "source": [
    "I checked this conversion against the CXRO tables. For the above values of f1 and f2 it gave delta = 0.1049094 and beta = 0.007962753"
   ]
  },
  {
   "cell_type": "code",
   "execution_count": 9,
   "metadata": {},
   "outputs": [],
   "source": [
    "using Test"
   ]
  },
  {
   "cell_type": "code",
   "execution_count": 36,
   "metadata": {},
   "outputs": [
    {
     "name": "stdout",
     "output_type": "stream",
     "text": [
      "\u001b[37m\u001b[1mTest Summary: | \u001b[22m\u001b[39m\u001b[32m\u001b[1mPass  \u001b[22m\u001b[39m\u001b[36m\u001b[1mTotal\u001b[22m\u001b[39m\n",
      "conversion    | \u001b[32m   5  \u001b[39m\u001b[36m    5\u001b[39m\n"
     ]
    }
   ],
   "source": [
    "@testset \"conversion\" begin\n",
    "    alf1=2.31139 # f2 for Al at 30.2555 eV\n",
    "    alf2=0.175442 # f2 for Al at 30.2555 eV\n",
    "    alA=26.982 # atomic mass of Al\n",
    "    alrho=2.70 # density of Al\n",
    "    E=30.2555 # energy for this test\n",
    "    lambda=e2lambda(E)\n",
    "    @test isapprox(lambda, 40.97906, atol = 1e-5)\n",
    "    d = delta(alrho, lambda, alA, alf1)\n",
    "    b = beta(alrho, lambda, alA, alf2)\n",
    "    @test isapprox(d,0.1049094, atol = 1e-5)\n",
    "    @test isapprox(b, 0.007962753, atol = 1e-6)\n",
    "    @test isapprox(f1(alrho, lambda, alA, d), alf1, atol = 1e-6)\n",
    "    @test isapprox(f2(alrho, lambda, alA, b), alf2, atol = 1e-6)\n",
    "end;"
   ]
  },
  {
   "cell_type": "markdown",
   "metadata": {},
   "source": [
    "With compounds, use the sum of the density for each of the atomic components. These functions compute $\\delta$ and $\\beta$ for binary compounds. The compounds have n1 atoms with atomic mass A1 and n2 atoms with atomic mass A2 in each molecular unit. f1 for atom 1 is f11, f1 for atom2 is f12, f2 for atom 1 is f21 f2 for atom 2 is f22. The contribution of atom1 to delta is delta computed with the molecular weight times the number of atoms of type atom1 in the molecule. The contribution of atom2 to delta is delta computed with the molecular weight times the number of atoms of type atom2 in the molecule."
   ]
  },
  {
   "cell_type": "code",
   "execution_count": 28,
   "metadata": {},
   "outputs": [
    {
     "data": {
      "text/plain": [
       "beta2 (generic function with 1 method)"
      ]
     },
     "execution_count": 28,
     "metadata": {},
     "output_type": "execute_result"
    }
   ],
   "source": [
    "function delta2(rho, lambda, A1, n1, f11, A2, n2, f12)\n",
    "    amol = n1*A1+n2*A2\n",
    "    d1 = delta(rho, lambda, amol, f11) * n1\n",
    "    d2 = delta(rho, lambda, amol, f12) * n2\n",
    "    d1+d2\n",
    "end\n",
    "function beta2(rho, lambda, A1, n1, f21, A2, n2, f22)\n",
    "    amol = n1*A1+n2*A2\n",
    "    b1 = beta(rho, lambda, amol, f21) * n1\n",
    "    b2 = beta(rho, lambda, amol, f22) * n2\n",
    "    b1+b2\n",
    "end"
   ]
  },
  {
   "cell_type": "code",
   "execution_count": 37,
   "metadata": {},
   "outputs": [
    {
     "name": "stdout",
     "output_type": "stream",
     "text": [
      "delta = 0.060079215657434994\n",
      "beta = 0.23422526564012883\n"
     ]
    }
   ],
   "source": [
    "rho = 2.88 # density of AlF3\n",
    "ff1 = 0.517012 # F f1 at 30.2555 eV\n",
    "ff2 = 4.96088 # F f2 at 30.2555 eV\n",
    "fA = 18.998 # F atomic mass\n",
    "E=30.2555\n",
    "lambda=e2lambda(E)\n",
    "println(\"delta = \", delta2(rho, lambda, alA, 1, alf1, fA, 3, ff1))\n",
    "println(\"beta = \", beta2(rho, lambda, alA, 1, alf2, fA, 3, ff2))"
   ]
  },
  {
   "cell_type": "markdown",
   "metadata": {},
   "source": [
    "CXRO computed the values delta = 0.06007458 and beta = 0.2342305, which looks consistent."
   ]
  },
  {
   "cell_type": "code",
   "execution_count": 41,
   "metadata": {},
   "outputs": [
    {
     "name": "stdout",
     "output_type": "stream",
     "text": [
      "\u001b[37m\u001b[1mTest Summary:        | \u001b[22m\u001b[39m\u001b[32m\u001b[1mPass  \u001b[22m\u001b[39m\u001b[36m\u001b[1mTotal\u001b[22m\u001b[39m\n",
      "molecular conversion | \u001b[32m   2  \u001b[39m\u001b[36m    2\u001b[39m\n"
     ]
    }
   ],
   "source": [
    "@testset \"molecular conversion\" begin\n",
    "    alf1=2.31139\n",
    "    alf2=0.175442\n",
    "    alA=26.982\n",
    "    ff1=0.517012\n",
    "    ff2=4.96088\n",
    "    fA=18.998\n",
    "    alf3rho=2.88\n",
    "    E=30.2555\n",
    "    lambda=e2lambda(E)\n",
    "    d = delta2(alf3rho, lambda, alA, 1, alf1, fA, 3, ff1)\n",
    "    b = beta2(alf3rho, lambda, alA, 1, alf2, fA, 3, ff2)\n",
    "    @test isapprox(d,0.06007458, atol = 5e-6)\n",
    "    @test isapprox(b,0.2342305, atol = 6e-6)\n",
    "end;"
   ]
  },
  {
   "cell_type": "code",
   "execution_count": null,
   "metadata": {},
   "outputs": [],
   "source": []
  }
 ],
 "metadata": {
  "kernelspec": {
   "display_name": "Julia 1.0.0",
   "language": "julia",
   "name": "julia-1.0"
  },
  "language_info": {
   "file_extension": ".jl",
   "mimetype": "application/julia",
   "name": "julia",
   "version": "1.0.0"
  }
 },
 "nbformat": 4,
 "nbformat_minor": 2
}
